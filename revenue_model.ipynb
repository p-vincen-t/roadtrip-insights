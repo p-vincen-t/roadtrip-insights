{
 "cells": [
  {
   "cell_type": "markdown",
   "id": "e13fa2f1-d8d4-4add-aea2-4ad0bbd9a7d9",
   "metadata": {},
   "source": [
    "Import Necessary Libraries:"
   ]
  },
  {
   "cell_type": "code",
   "execution_count": 1,
   "id": "b6200b9e-8df0-4f91-85ea-a88167a2fa2e",
   "metadata": {},
   "outputs": [],
   "source": [
    "import pandas as pd\n",
    "import numpy as np\n",
    "from sklearn.model_selection import train_test_split\n",
    "from sklearn.linear_model import LinearRegression"
   ]
  },
  {
   "cell_type": "markdown",
   "id": "4fff200b-c7e9-48b9-81d4-23f5aa09ce1c",
   "metadata": {},
   "source": [
    "Load the trip data from a CSV file into a pandas DataFrame.\n",
    "Split the data into features (trip data) and target variable (revenue).\n",
    "Normalize or standardize the features to ensure they have a mean of 0 and a standard deviation of 1.\n",
    "Split the Data:"
   ]
  },
  {
   "cell_type": "code",
   "execution_count": null,
   "id": "a8174e84-a7f9-49ca-9c20-9c84741c9f34",
   "metadata": {},
   "outputs": [],
   "source": [
    "# Load trip data from CSV file\n",
    "from constants import CSV_COLUMNS\n",
    "trip_data = pd.read_csv('example/data.csv')\n",
    "columns = CSV_COLUMNS\n",
    "df = pd.DataFrame(columns=columns)\n",
    "\n",
    "# Split the data into features and target variable\n",
    "X = df[['Vehicle Plate Number', 'Trip State', 'Start Time', 'End Time',\n",
    "         'Mileage (km)', 'Duration']]\n",
    "y = df['Revenue']\n",
    "\n",
    "# Normalize or standardize the features\n",
    "from sklearn.preprocessing import StandardScaler\n",
    "\n",
    "scaler = StandardScaler()\n",
    "X_scaled = scaler.fit_transform(X)"
   ]
  },
  {
   "cell_type": "markdown",
   "id": "37431a53-4b70-4194-907c-6e56a685075f",
   "metadata": {},
   "source": [
    "Use train_test_split from scikit-learn to split the data into training and testing sets.\n",
    "Set the test size to be 20% of the total data for evaluation.\n",
    "Train the Model:\n",
    "Create a linear regression model using LinearRegression.\n",
    "Fit the model on the training data."
   ]
  },
  {
   "cell_type": "code",
   "execution_count": null,
   "id": "6b680b65-d59a-4d74-949e-a4639cb52c5a",
   "metadata": {},
   "outputs": [],
   "source": [
    "# Split the data into training and testing sets\n",
    "X_train, X_test, y_train, y_test = train_test_split(X_scaled, y, test_size=0.2, random_state=42)\n",
    "# Train the model\n",
    "model = LinearRegression()\n",
    "model.fit(X_train, y_train)"
   ]
  },
  {
   "cell_type": "markdown",
   "id": "0d16cb65-a0fd-481b-a0b7-b56813766cb9",
   "metadata": {},
   "source": [
    "Evaluate the Model:"
   ]
  },
  {
   "cell_type": "code",
   "execution_count": null,
   "id": "4aa01186-1829-48ed-a260-edc29c82c43d",
   "metadata": {},
   "outputs": [],
   "source": [
    "# Evaluate the model\n",
    "y_pred = model.predict(X_test)"
   ]
  },
  {
   "cell_type": "markdown",
   "id": "9dfd4f8c-39e5-4788-b2dd-c73a44d2658f",
   "metadata": {},
   "source": [
    "Use the trained model to predict revenue for new trip data.\n",
    "Evaluate the model's performance by calculating the mean squared error (MSE).\n",
    "Save the Model:"
   ]
  },
  {
   "cell_type": "code",
   "execution_count": null,
   "id": "ab9c3831-7582-44fd-b9ff-8966bbb60d23",
   "metadata": {},
   "outputs": [],
   "source": [
    "mse = np.mean((y_test - y_pred) ** 2)\n",
    "\n",
    "print(f\"Mean Squared Error: {mse}\")"
   ]
  },
  {
   "cell_type": "markdown",
   "id": "54b4922c-ad25-4574-b1e6-271fdb40bd2d",
   "metadata": {},
   "source": [
    "Save the trained model as a pickle file for future use."
   ]
  },
  {
   "cell_type": "code",
   "execution_count": null,
   "id": "b475f522-8876-4114-98a9-5bced9009227",
   "metadata": {},
   "outputs": [],
   "source": [
    "# Save the model to a file in pickle format\n",
    "import joblib\n",
    "joblib.dump(model, 'revenue_model.pkl')"
   ]
  },
  {
   "cell_type": "markdown",
   "id": "9335b589-c9f5-48b6-96fa-dfecc003e80d",
   "metadata": {},
   "source": [
    "Example Usage:"
   ]
  },
  {
   "cell_type": "code",
   "execution_count": null,
   "id": "35801ba2-9678-4ab7-8985-68635b1b77d8",
   "metadata": {},
   "outputs": [],
   "source": [
    "# Importing joblib library\n",
    "from sklearn.linear_model import LinearRegression\n",
    "import joblib\n",
    "\n",
    "# Assuming 'revenue_model.pkl' is the filename of your saved model\n",
    "model = load('revenue_model.pkl')\n",
    "\n",
    "# Now you can use 'model' to make predictions or perform other operations with the loaded model\n"
   ]
  }
 ],
 "metadata": {
  "kernelspec": {
   "display_name": "Python 3 (ipykernel)",
   "language": "python",
   "name": "python3"
  },
  "language_info": {
   "codemirror_mode": {
    "name": "ipython",
    "version": 3
   },
   "file_extension": ".py",
   "mimetype": "text/x-python",
   "name": "python",
   "nbconvert_exporter": "python",
   "pygments_lexer": "ipython3",
   "version": "3.12.3"
  }
 },
 "nbformat": 4,
 "nbformat_minor": 5
}
